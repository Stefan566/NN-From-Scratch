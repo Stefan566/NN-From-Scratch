{
 "cells": [
  {
   "cell_type": "code",
   "execution_count": 1,
   "metadata": {},
   "outputs": [],
   "source": [
    "# Imports\n",
    "from pathlib import Path\n",
    "import os\n",
    "import numpy as np\n",
    "import cv2\n",
    "from sklearn.model_selection import train_test_split"
   ]
  },
  {
   "cell_type": "code",
   "execution_count": 2,
   "metadata": {},
   "outputs": [],
   "source": [
    "def relu(x):\n",
    "    return np.maximum(0,x)"
   ]
  },
  {
   "cell_type": "code",
   "execution_count": 3,
   "metadata": {},
   "outputs": [],
   "source": [
    "class TwoLayerNet():\n",
    "    def __init__(self,input_size,hidden_size,output_size,wi=1e-4):\n",
    "        self.W1 = wi * np.random.randn(input_size,hidden_size)\n",
    "        self.W2 = wi * np.random.randn(hidden_size,output_size)\n",
    "        self.b1 = np.zeros(hidden_size)\n",
    "        self.b2 = np.zeros(output_size)\n",
    "        \n",
    "    def loss(self, X, y = None, reg=0.0):\n",
    "        length, width = X.shape\n",
    "        \n",
    "        W1 = self.W1\n",
    "        W2 = self.W2\n",
    "        b1 = self.b1\n",
    "        b2 = self.b2\n",
    "        \n",
    "        y1 = relu(X.dot(W1) + b1)\n",
    "        y2 = y1.dot(W2) + b2\n",
    "        \n",
    "        if (y is None):\n",
    "            return y2\n",
    "        \n",
    "        W1 = self.W1\n",
    "        W2 = self.W2\n",
    "        b1 = self.b1\n",
    "        b2 = self.b2\n",
    "        length, width = X.shape\n",
    "\n",
    "        \n",
    "        y1 = relu(X.dot(W1) + b1) \n",
    "        y2 = y1.dot(W2) + b2\n",
    "\n",
    "         \n",
    "        if(y is None): \n",
    "            return y2\n",
    "\n",
    "        y2 -= y2.max()\n",
    "\n",
    "        y2 = np.exp(y2)\n",
    "        sumexp_y2 = np.sum(y2, axis=1)\n",
    "\n",
    "        \n",
    "        sm = y2 / sumexp_y2.reshape(length,1) \n",
    "        loss =  (-1.0) * np.sum(np.log(sm[range(length),y]))\n",
    "\n",
    "         \n",
    "        loss /= length \n",
    "        loss += reg * np.sum(W1 * W1) \n",
    "        loss += reg * np.sum(W2 * W2) \n",
    "\n",
    "        correct_class_scores = y2[range(length), y]\n",
    "        sm[range(length), y] = (-1.0) * (sumexp_y2 - correct_class_scores)/sumexp_y2\n",
    "        sm /= length\n",
    "\n",
    "\n",
    "        grads_W2 = y1.T.dot(sm)\n",
    "        grads_b2 = np.sum(sm, axis=0)\n",
    "        grads_W2 += reg * 2 * W2\n",
    "\n",
    "        hidden = sm.dot(W2.T)\n",
    "\n",
    "        hidden[y1 == 0] = 0 \n",
    "\n",
    "        grads_W1 = X.T.dot(hidden) \n",
    "        grads_b1 = np.sum(hidden, axis=0) \n",
    "        grads_W1 += reg * 2 * W1\n",
    "\n",
    "        return loss, grads_W1, grads_b1, grads_W2, grads_b2\n",
    "\n",
    "\n",
    "    def train(self, X, y, X_val, y_val, lr=1e-3, lr_decay=0.95, \n",
    "             reg=5e-6, num_iters = 100, batch_size=200,\n",
    "             it_verbose = 1, verbose = False):\n",
    "        \n",
    "        length, width = X.shape\n",
    "        val_length = X_val.shape[0]\n",
    "        iteration_per_epoch = max(length/batch_size, 1)\n",
    "        \n",
    "        loss_hist = []\n",
    "        train_acc_hist = []\n",
    "        val_acc_hist = []\n",
    "        \n",
    "        for it in range(num_iters):\n",
    "            s = np.random.choice(np.arange(length), batch_size, replace=False)\n",
    "            X_batch = X[s]\n",
    "            y_batch = y[s]\n",
    "        \n",
    "            loss, grads_W1, grads_b1, grads_W2, grads_b2 = self.loss(X_batch, y=y_batch, reg=reg)\n",
    "            loss_hist.append(loss)\n",
    "            \n",
    "            self.W1 += (-1.0) * lr * grads_W1  \n",
    "            self.b1 += (-1.0) * lr * grads_b1\n",
    "            self.W2 += (-1.0) * lr * grads_W2  \n",
    "            self.b2 += (-1.0) * lr * grads_b2\n",
    "            \n",
    "            if (verbose and it&it_verbose==0):\n",
    "                print('iteration: %d / %d | Loss: %f' % (it, num_iters, loss))\n",
    "            \n",
    "            if (it%iteration_per_epoch==0):\n",
    "                train_acc = (self.predict(X_batch) == y_batch).mean()\n",
    "                val_acc = (self.predict(X_val) == y_val).mean()\n",
    "                train_acc_hist.append(train_acc)\n",
    "                val_acc_hist.append(val_acc)\n",
    "                \n",
    "                lr *= lr_decay\n",
    "                \n",
    "        return loss_hist, train_acc_hist, val_acc_hist\n",
    "    \n",
    "    def predict(self, X):\n",
    "        \n",
    "        y_pred = None\n",
    "        \n",
    "        W1 = self.W1\n",
    "        W2 = self.W2\n",
    "        b1 = self.b1\n",
    "        b2 = self.b2\n",
    "\n",
    "        y1 = relu(X.dot(W1) + b1)\n",
    "        y2 = y1.dot(W2) + b2\n",
    "        y_pred = np.argmax(y2, axis = 1)\n",
    "\n",
    "        return y_pred"
   ]
  },
  {
   "cell_type": "code",
   "execution_count": 4,
   "metadata": {},
   "outputs": [],
   "source": [
    "data_dir = './dataset'\n",
    "p = Path(data_dir)\n",
    "\n",
    "data_paths = [x for x in p.iterdir() if x.is_dir()]\n",
    "\n",
    "classes = []\n",
    "for i in range(len(data_paths)):\n",
    "    classes.append(data_paths[i].name)\n",
    "num_data = 300\n",
    "\n",
    "count = 0\n",
    "for i in range(len(data_paths)):\n",
    "    count += len([x for x in data_paths[0].iterdir() if x.glob('./*.tif')])\n",
    "\n",
    "y = np.zeros(num_data * len(data_paths))\n",
    "\n",
    "for c in range(len(data_paths)):\n",
    "    start = c * num_data\n",
    "    end = start + num_data\n",
    "    for i in range(start, end):\n",
    "        y[i] = c"
   ]
  },
  {
   "cell_type": "code",
   "execution_count": 5,
   "metadata": {},
   "outputs": [],
   "source": [
    "# Image dimension\n",
    "im_width = 200\n",
    "im_height = 200 \n",
    "im_channels = 3\n",
    "im_dim = im_width * im_height * im_channels"
   ]
  },
  {
   "cell_type": "code",
   "execution_count": 6,
   "metadata": {},
   "outputs": [],
   "source": [
    "X = np.ndarray(shape=(len(data_paths) * num_data, im_width, im_height, im_channels), dtype=np.float64)\n",
    "\n",
    "for c in range(len(data_paths)):\n",
    "    start = c * num_data\n",
    "    for i in range(num_data):\n",
    "        f = str(list(data_paths[c].glob('**/*.tif'))[i])\n",
    "        X[start + i] = cv2.resize(cv2.imread(f), (im_width, im_height))\n",
    "    \n",
    "X_train, X_test, y_train, y_test = train_test_split(X, y, shuffle=True)\n",
    "\n",
    "del X\n",
    "del y"
   ]
  },
  {
   "cell_type": "code",
   "execution_count": 7,
   "metadata": {},
   "outputs": [],
   "source": [
    "y_train = y_train.astype(int)\n",
    "y_test = y_test.astype(int)\n",
    "\n",
    "X_train = np.reshape(X_train, (X_train.shape[0], -1)).astype('float64')\n",
    "X_test = np.reshape(X_test, (X_test.shape[0], -1)).astype('float64')"
   ]
  },
  {
   "cell_type": "code",
   "execution_count": 8,
   "metadata": {},
   "outputs": [
    {
     "name": "stderr",
     "output_type": "stream",
     "text": [
      "/opt/anaconda3/lib/python3.7/site-packages/ipykernel_launcher.py:43: RuntimeWarning: divide by zero encountered in log\n"
     ]
    }
   ],
   "source": [
    "# Train the model\n",
    "model = TwoLayerNet(im_dim, 200, 4)\n",
    "loss_hist, train_acc_hist, val_acc_hist = model.train(X_train, y_train, X_test, y_test)"
   ]
  },
  {
   "cell_type": "code",
   "execution_count": 9,
   "metadata": {},
   "outputs": [],
   "source": [
    "# Prepare images for prediction\n",
    "X_pred = np.ndarray(shape=(2, im_width, im_height, im_channels), dtype=np.float64)\n",
    "X_label = ['', '']\n",
    "for i in range(0,2):\n",
    "    f = str(list(data_paths[i+2].iterdir())[-5])\n",
    "    X_pred[i] = cv2.resize(cv2.imread(f), (im_width, im_height))\n",
    "    X_label[i] = classes[i]\n"
   ]
  },
  {
   "cell_type": "code",
   "execution_count": 10,
   "metadata": {},
   "outputs": [],
   "source": [
    "pred = model.predict(np.reshape(X_pred, (X_pred.shape[0], -1)).astype('float64'))"
   ]
  },
  {
   "cell_type": "code",
   "execution_count": 11,
   "metadata": {},
   "outputs": [
    {
     "name": "stdout",
     "output_type": "stream",
     "text": [
      "soybean\n",
      "soybean\n"
     ]
    }
   ],
   "source": [
    "for i in range(0,2):\n",
    "    print(classes[pred[i]])\n",
    "    "
   ]
  },
  {
   "cell_type": "code",
   "execution_count": null,
   "metadata": {},
   "outputs": [],
   "source": []
  }
 ],
 "metadata": {
  "kernelspec": {
   "display_name": "Python 3",
   "language": "python",
   "name": "python3"
  },
  "language_info": {
   "codemirror_mode": {
    "name": "ipython",
    "version": 3
   },
   "file_extension": ".py",
   "mimetype": "text/x-python",
   "name": "python",
   "nbconvert_exporter": "python",
   "pygments_lexer": "ipython3",
   "version": "3.7.3"
  }
 },
 "nbformat": 4,
 "nbformat_minor": 2
}
